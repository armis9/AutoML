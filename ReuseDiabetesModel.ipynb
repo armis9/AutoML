{
 "cells": [
  {
   "cell_type": "code",
   "execution_count": 1,
   "metadata": {},
   "outputs": [
    {
     "name": "stderr",
     "output_type": "stream",
     "text": [
      "Using TensorFlow backend.\n"
     ]
    }
   ],
   "source": [
    "# 0. 사용할 패키지 불러오기\n",
    "from keras.utils import np_utils\n",
    "from keras.datasets import mnist\n",
    "from keras.models import Sequential\n",
    "from keras.layers import Dense, Activation\n",
    "import numpy as np\n",
    "from numpy import argmax"
   ]
  },
  {
   "cell_type": "code",
   "execution_count": 13,
   "metadata": {},
   "outputs": [
    {
     "name": "stdout",
     "output_type": "stream",
     "text": [
      "[61 16  8 62 27]\n",
      "[  9.    170.     74.     31.      0.     44.      0.403  43.   ]\n",
      "[[9.00e+00 1.70e+02 7.40e+01 3.10e+01 0.00e+00 4.40e+01 4.03e-01 4.30e+01]\n",
      " [3.00e+00 1.73e+02 7.80e+01 3.90e+01 1.85e+02 3.38e+01 9.70e-01 3.10e+01]\n",
      " [9.00e+00 1.64e+02 7.80e+01 0.00e+00 0.00e+00 3.28e+01 1.48e-01 4.50e+01]\n",
      " [9.00e+00 8.90e+01 6.20e+01 0.00e+00 0.00e+00 2.25e+01 1.42e-01 3.30e+01]\n",
      " [0.00e+00 1.41e+02 8.40e+01 2.60e+01 0.00e+00 3.24e+01 4.33e-01 2.20e+01]]\n"
     ]
    }
   ],
   "source": [
    "# 1. 실무에 사용할 데이터 준비하기\n",
    "# 랜덤시드 고정시키기\n",
    "np.random.seed(5)\n",
    "dataset = np.loadtxt(\"./pima-indians-diabetes2.csv\", delimiter=\",\")\n",
    "x_train = dataset[:700,0:8]\n",
    "y_train = dataset[:700,8]\n",
    "x_test = dataset[700:,0:8]\n",
    "y_test = dataset[700:,8]\n",
    "\n",
    "xhat_idx = np.random.choice(x_test.shape[0], 5)\n",
    "print(xhat_idx)\n",
    "xhat1 = x_test[61]\n",
    "print(xhat1)\n",
    "xhat = x_test[xhat_idx]\n",
    "print(xhat)"
   ]
  },
  {
   "cell_type": "code",
   "execution_count": 16,
   "metadata": {},
   "outputs": [
    {
     "name": "stdout",
     "output_type": "stream",
     "text": [
      "True : 1.0, Predict : [1]\n",
      "True : 1.0, Predict : [1]\n",
      "True : 1.0, Predict : [1]\n",
      "True : 0.0, Predict : [0]\n",
      "True : 0.0, Predict : [0]\n"
     ]
    }
   ],
   "source": [
    "# 2. 모델 불러오기\n",
    "from keras.models import load_model\n",
    "model = load_model('diabetesPred_mlp_model.h5')\n",
    "\n",
    "# 3. 모델 사용하기\n",
    "yhat = model.predict_classes(xhat)\n",
    "\n",
    "for i in range(5):\n",
    "    print('True : ' + str(y_test[xhat_idx[i]]) + ', Predict : ' + str(yhat[i]))"
   ]
  },
  {
   "cell_type": "code",
   "execution_count": null,
   "metadata": {},
   "outputs": [],
   "source": []
  }
 ],
 "metadata": {
  "kernelspec": {
   "display_name": "Python 3",
   "language": "python",
   "name": "python3"
  },
  "language_info": {
   "codemirror_mode": {
    "name": "ipython",
    "version": 3
   },
   "file_extension": ".py",
   "mimetype": "text/x-python",
   "name": "python",
   "nbconvert_exporter": "python",
   "pygments_lexer": "ipython3",
   "version": "3.5.5"
  }
 },
 "nbformat": 4,
 "nbformat_minor": 2
}
