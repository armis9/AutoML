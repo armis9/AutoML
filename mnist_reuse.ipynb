{
 "cells": [
  {
   "cell_type": "code",
   "execution_count": 1,
   "metadata": {},
   "outputs": [
    {
     "name": "stderr",
     "output_type": "stream",
     "text": [
      "Using TensorFlow backend.\n"
     ]
    }
   ],
   "source": [
    "# 0. 사용할 패키지 불러오기\n",
    "from keras.utils import np_utils\n",
    "from keras.datasets import mnist\n",
    "from keras.models import Sequential\n",
    "from keras.layers import Dense, Activation\n",
    "import numpy as np\n",
    "from numpy import argmax\n",
    "import sys"
   ]
  },
  {
   "cell_type": "markdown",
   "metadata": {},
   "source": [
    "케라스의 MNIST 데이터는 총 70,000개의 이미지 중 60,000개를 학습용으로, 10,000개를 테스트용으로 미리 구분해 놓고 있다.\n",
    "60000 은 전체 이미지 개수를 의미하고 28, 28은 각각의 이미지를 이루는 가로 세로 픽셀 개수임"
   ]
  },
  {
   "cell_type": "code",
   "execution_count": 6,
   "metadata": {},
   "outputs": [
    {
     "name": "stdout",
     "output_type": "stream",
     "text": [
      "훈련데이터 x개수 =(60000, 28, 28)\n",
      "시험데이터 x개수 =(10000, 28, 28)\n",
      "시험데이터 y개수 =(60000,)\n"
     ]
    }
   ],
   "source": [
    "# 1. 실무에 사용할 데이터 준비하기\n",
    "(x_train, y_train), (x_test, y_test) = mnist.load_data()\n",
    "print('훈련데이터 x개수 =' + str(x_train.shape))\n",
    "print('시험데이터 x개수 =' + str(x_test.shape))\n",
    "print('시험데이터 y개수 =' + str(y_train.shape))"
   ]
  },
  {
   "cell_type": "markdown",
   "metadata": {},
   "source": [
    "아래 코드는 y 훈련데이터 중 26번째 데이터를 프린트하고 x 훈련데이터 중 26번째 것을 화면에 찍어서 보여주는 루틴\n",
    "print(y_train[25])\n",
    "for x in x_train[25]:\n",
    "   for i in x:\n",
    "      sys.stdout.write('%d\\t'%i)\n",
    "   sys.stdout.write('\\n')"
   ]
  },
  {
   "cell_type": "markdown",
   "metadata": {},
   "source": [
    "x 시험데이터 중 10000개를 28x28 = 784 개의 일차원 배열로 전환하면서 255 로 나누어 0~1 사이에서 정규화까지 하는 루틴\n",
    "y 시험데이터는 0~9 사이의 숫자로 되어 있는데 이 숫자들을 원소 10개(디폴트값)인 원핫인코딩으로 변환\n",
    "예를 들어, 3은 (0, 0, 0, 1, 0, 0, 0, 0, 0, 0) 가 됨"
   ]
  },
  {
   "cell_type": "code",
   "execution_count": 7,
   "metadata": {},
   "outputs": [],
   "source": [
    "x_test = x_test.reshape(10000, 784).astype('float32') / 255.0\n",
    "y_test = np_utils.to_categorical(y_test)"
   ]
  },
  {
   "cell_type": "markdown",
   "metadata": {},
   "source": [
    "numpy.random.choice(a, size=None, replace=True, p=None)\n",
    "a : 배열이면 원래의 데이터, 정수이면 range(a) 명령으로 데이터 생성 가능\n",
    "size : 샘플 개수\n",
    "replace : boolian. True 면 한번 선택한 데이터를 다시 선택 가능\n",
    "p : 배열. 각 데이터가 선택될 수 있는 확률\n",
    "아래 루틴에서는 0~10000 안에서 랜덤으로 5개 숫자를 선택함"
   ]
  },
  {
   "cell_type": "code",
   "execution_count": 9,
   "metadata": {},
   "outputs": [
    {
     "name": "stdout",
     "output_type": "stream",
     "text": [
      "[6718 7237 9854 5119 8834]\n"
     ]
    }
   ],
   "source": [
    "xhat_idx = np.random.choice(x_test.shape[0], 5)\n",
    "print(xhat_idx)"
   ]
  },
  {
   "cell_type": "markdown",
   "metadata": {},
   "source": [
    "x 시험데이터 중 5개를 선택해서 xhat 에 복사하는 루틴임\n",
    "현재 x 시험데이터는 1차원으로 변환되어 있으므로 (5, 784) 로 나타남"
   ]
  },
  {
   "cell_type": "code",
   "execution_count": 13,
   "metadata": {},
   "outputs": [
    {
     "name": "stdout",
     "output_type": "stream",
     "text": [
      "xhat 의 구조 : (5, 784)\n"
     ]
    }
   ],
   "source": [
    "xhat = x_test[xhat_idx]\n",
    "print('xhat 의 구조 : ' + str(xhat.shape))"
   ]
  },
  {
   "cell_type": "markdown",
   "metadata": {},
   "source": [
    "학습된 모델이 저장된 파일을 불러오고 사용하는 루틴"
   ]
  },
  {
   "cell_type": "code",
   "execution_count": 14,
   "metadata": {},
   "outputs": [],
   "source": [
    "# 2. 모델 불러오기\n",
    "from keras.models import load_model\n",
    "model = load_model('mnist_mlp_model.h5')\n",
    "\n",
    "# 3. 모델 사용하기\n",
    "yhat = model.predict_classes(xhat)"
   ]
  },
  {
   "cell_type": "markdown",
   "metadata": {},
   "source": [
    "argmax 는 최고값이 있는 위치를 뜻함. 원핫인코딩인 것을 감안하면 숫자로 도출됨을 알 수 있음"
   ]
  },
  {
   "cell_type": "code",
   "execution_count": 15,
   "metadata": {},
   "outputs": [
    {
     "name": "stdout",
     "output_type": "stream",
     "text": [
      "True : 9, Predict : 9\n",
      "True : 2, Predict : 2\n",
      "True : 8, Predict : 8\n",
      "True : 2, Predict : 2\n",
      "True : 5, Predict : 5\n"
     ]
    }
   ],
   "source": [
    "for i in range(5):\n",
    "    print('True : ' + str(argmax(y_test[xhat_idx[i]])) + ', Predict : ' + str(yhat[i]))"
   ]
  },
  {
   "cell_type": "code",
   "execution_count": null,
   "metadata": {},
   "outputs": [],
   "source": []
  }
 ],
 "metadata": {
  "kernelspec": {
   "display_name": "Python 3",
   "language": "python",
   "name": "python3"
  },
  "language_info": {
   "codemirror_mode": {
    "name": "ipython",
    "version": 3
   },
   "file_extension": ".py",
   "mimetype": "text/x-python",
   "name": "python",
   "nbconvert_exporter": "python",
   "pygments_lexer": "ipython3",
   "version": "3.5.5"
  }
 },
 "nbformat": 4,
 "nbformat_minor": 2
}
