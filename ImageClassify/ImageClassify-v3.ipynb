{
 "cells": [
  {
   "cell_type": "code",
   "execution_count": 41,
   "metadata": {},
   "outputs": [],
   "source": [
    "# 0. 사용할 패키지 불러오기\n",
    "import numpy as np\n",
    "from keras.models import Sequential\n",
    "from keras.layers import Dense\n",
    "from keras.layers import Flatten\n",
    "from keras.layers.convolutional import Conv2D\n",
    "from keras.layers.convolutional import MaxPooling2D\n",
    "from keras.preprocessing.image import ImageDataGenerator\n",
    "import keras\n",
    "import pandas as pd"
   ]
  },
  {
   "cell_type": "markdown",
   "metadata": {},
   "source": [
    "이미지가 0, 1, 2, ... , 255 까지 값을 가지는 배열이므로 255 로 스케일링 해서 0 ~ 1 사이 값을 가지고 하는 것임. \n",
    "\n",
    "이렇게 해야 활성화함수 및 오류역전파 알고리즘이 잘 동작함.\n",
    "\n",
    "![ex_screenshot](img/Train_Valid_Test.jpg)"
   ]
  },
  {
   "cell_type": "code",
   "execution_count": 49,
   "metadata": {},
   "outputs": [
    {
     "name": "stdout",
     "output_type": "stream",
     "text": [
      "Found 45 images belonging to 3 classes.\n",
      "Found 15 images belonging to 3 classes.\n",
      "Found 13 images belonging to 1 classes.\n"
     ]
    }
   ],
   "source": [
    "# 랜덤시드 고정시키기\n",
    "np.random.seed(3)\n",
    "\n",
    "# 1. 데이터 생성하기\n",
    "train_datagen = ImageDataGenerator(rescale=1./255)\n",
    "\n",
    "train_generator = train_datagen.flow_from_directory(\n",
    "        'warehouse/handwriting_shape/train',\n",
    "        target_size=(24, 24),\n",
    "        batch_size=3,\n",
    "        class_mode=\"categorical\",\n",
    "        shuffle=True)\n",
    "\n",
    "valid_datagen = ImageDataGenerator(rescale=1./255)\n",
    "\n",
    "valid_generator = valid_datagen.flow_from_directory(\n",
    "        'warehouse/handwriting_shape/valid',\n",
    "        target_size=(24, 24),    \n",
    "        batch_size=1,\n",
    "        class_mode=\"categorical\",\n",
    "        shuffle=True)\n",
    "\n",
    "test_datagen = ImageDataGenerator(rescale=1./255)\n",
    "\n",
    "test_generator = test_datagen.flow_from_directory(\n",
    "        'warehouse/handwriting_shape/test',\n",
    "        target_size = (24, 24),    \n",
    "        batch_size = 1,\n",
    "        class_mode = None,\n",
    "        shuffle = False)"
   ]
  },
  {
   "cell_type": "markdown",
   "metadata": {},
   "source": [
    "24 * 24 이미지가 3 * 3 사이즈 32개 컨볼루션 레이어를 통과하면 (22, 22, 32) 가 됨.\n",
    "\n",
    "이게 다시 같은 사이즈의 64개 컨볼루션 레이어를 통과하면 (20, 20, 64) 가 됨.\n",
    "\n",
    "이게 (2, 2) 즉 50% 로 줄이는 맥스풀링 레이어를 통과하면 (10, 10, 64) 가 됨.\n",
    "\n",
    "플래튼 레이어를 통과하면 10 * 10 * 64 = 6400 개 배열이 됨."
   ]
  },
  {
   "cell_type": "code",
   "execution_count": 50,
   "metadata": {},
   "outputs": [],
   "source": [
    "# 2. 모델 구성하기\n",
    "model = Sequential()\n",
    "model.add(Conv2D(32, kernel_size=(3, 3),\n",
    "                 activation='relu',\n",
    "                 input_shape=(24,24,3)))\n",
    "model.add(Conv2D(64, (3, 3), activation='relu'))\n",
    "model.add(MaxPooling2D(pool_size=(2, 2)))\n",
    "model.add(Flatten())\n",
    "model.add(Dense(128, activation='relu'))\n",
    "model.add(Dense(3, activation='softmax'))"
   ]
  },
  {
   "cell_type": "markdown",
   "metadata": {},
   "source": [
    "데이터 생성 시 배치사이즈를 3으로 했으므로 학습 시 한 세대 당 스텝 개수는 15로 한다. 그래야 샘플 개수 3 * 15 = 45 가 됨.\n",
    "\n",
    "STEP_SIZE_TRAIN=train_generator.n//train_generator.batch_size\n",
    "STEP_SIZE_VALID=valid_generator.n//valid_generator.batch_size\n",
    "\n",
    "model.fit_generator(generator=train_generator,\n",
    "                    steps_per_epoch=STEP_SIZE_TRAIN,\n",
    "                    validation_data=valid_generator,\n",
    "                    validation_steps=STEP_SIZE_VALID,\n",
    "                    epochs=10\n",
    ")"
   ]
  },
  {
   "cell_type": "code",
   "execution_count": 51,
   "metadata": {},
   "outputs": [
    {
     "name": "stdout",
     "output_type": "stream",
     "text": [
      "Epoch 1/5\n",
      "15/15 [==============================] - 1s 57ms/step - loss: 1.1462 - acc: 0.6667 - val_loss: 0.5262 - val_acc: 1.0000\n",
      "Epoch 2/5\n",
      "15/15 [==============================] - 0s 18ms/step - loss: 0.1862 - acc: 0.9778 - val_loss: 0.4760 - val_acc: 0.8000\n",
      "Epoch 3/5\n",
      "15/15 [==============================] - 0s 17ms/step - loss: 0.0205 - acc: 1.0000 - val_loss: 0.0128 - val_acc: 1.0000\n",
      "Epoch 4/5\n",
      "15/15 [==============================] - 0s 18ms/step - loss: 6.9533e-04 - acc: 1.0000 - val_loss: 2.0942e-04 - val_acc: 1.0000\n",
      "Epoch 5/5\n",
      "15/15 [==============================] - 0s 18ms/step - loss: 3.5494e-04 - acc: 1.0000 - val_loss: 0.1108 - val_acc: 1.0000\n"
     ]
    },
    {
     "data": {
      "text/plain": [
       "<keras.callbacks.History at 0x206a9cefe10>"
      ]
     },
     "execution_count": 51,
     "metadata": {},
     "output_type": "execute_result"
    }
   ],
   "source": [
    "# 3. 모델 학습과정 설정하기\n",
    "model.compile(loss='categorical_crossentropy', optimizer='adam', metrics=['accuracy'])\n",
    "\n",
    "# 4. 모델 학습시키기\n",
    "model.fit_generator(\n",
    "        generator=train_generator,\n",
    "        steps_per_epoch=15,        \n",
    "        validation_data=valid_generator,\n",
    "        validation_steps=5,\n",
    "        epochs=5\n",
    ")"
   ]
  },
  {
   "cell_type": "code",
   "execution_count": 52,
   "metadata": {},
   "outputs": [
    {
     "name": "stdout",
     "output_type": "stream",
     "text": [
      "-- Evaluate --\n",
      "acc: 100.00%\n",
      "[0.009606291445258345, 1.0]\n"
     ]
    }
   ],
   "source": [
    "# 5. 모델 평가하기\n",
    "print(\"-- Evaluate --\")\n",
    "scores = model.evaluate_generator(generator=valid_generator, steps=15)\n",
    "print(\"%s: %.2f%%\" %(model.metrics_names[1], scores[1]*100))\n",
    "print(scores)"
   ]
  },
  {
   "cell_type": "markdown",
   "metadata": {},
   "source": [
    "flow_from_directory 의 파라미터 중 batch_size 는 디폴트값이 32 임. \n",
    "\n",
    "모든 샘플에 대해서 하나의 예측만 하고 싶으면 predict_generator 의 steps 를 샘플개수/batch_size 로 넣으면 됨\n",
    "\n",
    "target_size 는 원본 이미지가 최종적으로 리사이징 될 크기.\n",
    "color mode 는 흑백이나 그레이스케일인 경우는 grayscale 로 넣는다.\n",
    "batch_size 는 배치 당 generator 로 부터 산출되는 이미지 갯수\n",
    "class_mode 는 2 class 문제일 경우에는 \"binary\" 로 Autoencoder(입력과 출력이 같아야 하는) 시스템일 경우는 \"input\" 으로 설정함\n",
    "shuffle 은 산출되는 이미지를 shuffle 하고 싶을 때는 True 로 한다\n",
    "seed 는 Random seed for applying random image augmentation and shuffling the order of the image 라고 함.\n",
    "\n",
    "train_generator = train_datagen.flow_from_directory(\n",
    "    directory=r\"./train/\",\n",
    "    target_size=(224, 224),\n",
    "    color_mode=\"rgb\"\n",
    "    batch_size=32,\n",
    "    class_mode=\"categorical\",\n",
    "    shuffle=True,\n",
    "    seed=42\n",
    ")"
   ]
  },
  {
   "cell_type": "code",
   "execution_count": 53,
   "metadata": {},
   "outputs": [],
   "source": [
    "test_generator.reset()\n",
    "filenames = test_generator.filenames\n",
    "nb_samples = len(filenames)\n",
    "pred=model.predict_generator(test_generator,steps=nb_samples)"
   ]
  },
  {
   "cell_type": "code",
   "execution_count": 54,
   "metadata": {},
   "outputs": [],
   "source": [
    "predicted_class_indices=np.argmax(pred,axis=1)\n",
    "labels = (train_generator.class_indices)\n",
    "labels = dict((v,k) for k,v in labels.items())\n",
    "predictions = [labels[k] for k in predicted_class_indices]"
   ]
  },
  {
   "cell_type": "code",
   "execution_count": 55,
   "metadata": {},
   "outputs": [
    {
     "name": "stdout",
     "output_type": "stream",
     "text": [
      "['Test_folder\\\\circle016.png', 'Test_folder\\\\circle017.png', 'Test_folder\\\\circle018.png', 'Test_folder\\\\rectangle007.png', 'Test_folder\\\\rectangle008.png', 'Test_folder\\\\rectangle009.png', 'Test_folder\\\\rectangle012.png', 'Test_folder\\\\rectangle013.png', 'Test_folder\\\\rectangle014.png', 'Test_folder\\\\rectangle019.png', 'Test_folder\\\\rectangle020.png', 'Test_folder\\\\triangle017.png', 'Test_folder\\\\triangle020.png']\n",
      "['circle', 'circle', 'circle', 'rectangle', 'rectangle', 'rectangle', 'rectangle', 'rectangle', 'rectangle', 'rectangle', 'rectangle', 'triangle', 'triangle']\n"
     ]
    }
   ],
   "source": [
    "print(filenames)\n",
    "print(predictions)"
   ]
  },
  {
   "cell_type": "code",
   "execution_count": 32,
   "metadata": {},
   "outputs": [
    {
     "name": "stdout",
     "output_type": "stream",
     "text": [
      "['circle\\\\circle016.png', 'circle\\\\circle017.png', 'circle\\\\circle018.png', 'circle\\\\circle019.png', 'circle\\\\circle020.png', 'rectangle\\\\rectangle016.png', 'rectangle\\\\rectangle017.png', 'rectangle\\\\rectangle018.png', 'rectangle\\\\rectangle019.png', 'rectangle\\\\rectangle020.png', 'triangle\\\\triangle016.png', 'triangle\\\\triangle017.png', 'triangle\\\\triangle018.png', 'triangle\\\\triangle019.png', 'triangle\\\\triangle020.png']\n"
     ]
    }
   ],
   "source": [
    "filenames = valid_generator.filenames\n",
    "nb_samples = len(filenames)\n",
    "print(filenames)"
   ]
  },
  {
   "cell_type": "markdown",
   "metadata": {},
   "source": [
    "test_generator 의 batch_size 는 train_generator 나 evaluate_generator 의 batch_size 와 조금 다르다.\n",
    "test set 의 전체 이미지 개수를 나누기 위한 어떤 숫자인데 정확하게 한번만 샘플링 되어야 한다. 잘 모르겠으면 1 로 둔다.\n",
    "class_mode 는 None 으로 둔다. 오직 이미지만을 Return 하기 위해...\n",
    "\n",
    "test_generator = test_datagen.flow_from_directory(\n",
    "    directory=r\"./test/\",\n",
    "    target_size=(224, 224),\n",
    "    color_mode=\"rgb\"\n",
    "    batch_size=1,\n",
    "    class_mode=None,\n",
    "    shuffle=False,\n",
    "    seed=42\n",
    ")\n",
    "\n",
    "argmax 함수의 axis 는 0=열(column), 1=행(row), 2=면(page) 의 순으로 가장 높은 숫자의 위치를 알려주는 파라미터임."
   ]
  },
  {
   "cell_type": "code",
   "execution_count": 23,
   "metadata": {},
   "outputs": [
    {
     "name": "stdout",
     "output_type": "stream",
     "text": [
      "-- Predict --\n",
      "['circle\\\\circle016.png', 'circle\\\\circle017.png', 'circle\\\\circle018.png', 'circle\\\\circle019.png', 'circle\\\\circle020.png', 'rectangle\\\\rectangle016.png', 'rectangle\\\\rectangle017.png', 'rectangle\\\\rectangle018.png', 'rectangle\\\\rectangle019.png', 'rectangle\\\\rectangle020.png', 'triangle\\\\triangle016.png', 'triangle\\\\triangle017.png', 'triangle\\\\triangle018.png', 'triangle\\\\triangle019.png', 'triangle\\\\triangle020.png']\n",
      "['circle\\\\circle016.png', 'circle\\\\circle017.png', 'circle\\\\circle018.png', 'circle\\\\circle019.png', 'circle\\\\circle020.png', 'rectangle\\\\rectangle016.png', 'rectangle\\\\rectangle017.png', 'rectangle\\\\rectangle018.png', 'rectangle\\\\rectangle019.png', 'rectangle\\\\rectangle020.png', 'triangle\\\\triangle016.png', 'triangle\\\\triangle017.png', 'triangle\\\\triangle018.png', 'triangle\\\\triangle019.png', 'triangle\\\\triangle020.png']\n",
      "['circle\\\\circle016.png', 'circle\\\\circle017.png', 'circle\\\\circle018.png', 'circle\\\\circle019.png', 'circle\\\\circle020.png', 'rectangle\\\\rectangle016.png', 'rectangle\\\\rectangle017.png', 'rectangle\\\\rectangle018.png', 'rectangle\\\\rectangle019.png', 'rectangle\\\\rectangle020.png', 'triangle\\\\triangle016.png', 'triangle\\\\triangle017.png', 'triangle\\\\triangle018.png', 'triangle\\\\triangle019.png', 'triangle\\\\triangle020.png']\n",
      "[2 0 2 2 0 0 1 2 2 0 1 1 1 1 0]\n",
      "label_map2 = {0: 'circle', 1: 'rectangle', 2: 'triangle'}\n",
      "['triangle', 'circle', 'triangle', 'triangle', 'circle', 'circle', 'rectangle', 'triangle', 'triangle', 'circle', 'rectangle', 'rectangle', 'rectangle', 'rectangle', 'circle']\n"
     ]
    }
   ],
   "source": [
    "# 6. 모델 사용하기\n",
    "print(\"-- Predict --\")\n",
    "print(valid_generator.filenames)\n",
    "valid_generator.reset()\n",
    "print(valid_generator.filenames)\n",
    "#output = model.predict_generator(val_generator, verbose=1)\n",
    "output = model.predict_generator(valid_generator, nb_samples)\n",
    "# output = model.predict_generator(val_generator, steps=nb_samples)\n",
    "output2 = np.argmax(output, axis=1)\n",
    "#np.set_printoptions(formatter={'float': lambda x: \"{0:0.3f}\".format(x)})\n",
    "#print(val_generator.class_indices)\n",
    "#print(val_generator.classes)\n",
    "print(valid_generator.filenames)\n",
    "#print(\"%s: \" %(model.metrics_names[1]))\n",
    "#print(output)\n",
    "print(output2)\n",
    "label_map = train_generator.class_indices\n",
    "#print(label_map)\n",
    "label_map2 = dict((v,k) for k,v in label_map.items()) #flip k,v\n",
    "print('label_map2 = ' + str(label_map2))\n",
    "output3 = [label_map2[k] for k in output2]\n",
    "print(output3)\n",
    "\n",
    "filenames=valid_generator.filenames\n",
    "#results=pd.DataFrame({\"Filename\":filenames,\"Predictions\":output3})\n",
    "#results.to_csv(\"results.csv\",index=False)"
   ]
  },
  {
   "cell_type": "code",
   "execution_count": null,
   "metadata": {},
   "outputs": [],
   "source": []
  }
 ],
 "metadata": {
  "kernelspec": {
   "display_name": "Python 3",
   "language": "python",
   "name": "python3"
  },
  "language_info": {
   "codemirror_mode": {
    "name": "ipython",
    "version": 3
   },
   "file_extension": ".py",
   "mimetype": "text/x-python",
   "name": "python",
   "nbconvert_exporter": "python",
   "pygments_lexer": "ipython3",
   "version": "3.5.5"
  }
 },
 "nbformat": 4,
 "nbformat_minor": 2
}
