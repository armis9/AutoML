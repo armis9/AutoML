{
 "cells": [
  {
   "cell_type": "markdown",
   "metadata": {},
   "source": [
    "https://medium.com/@vijayabhaskar96/tutorial-image-classification-with-keras-flow-from-directory-and-generators-95f75ebe5720"
   ]
  },
  {
   "cell_type": "code",
   "execution_count": 75,
   "metadata": {},
   "outputs": [],
   "source": [
    "# 0. 사용할 패키지 불러오기\n",
    "import numpy as np\n",
    "from keras.models import Sequential\n",
    "from keras.layers import Dense\n",
    "from keras.layers import Flatten\n",
    "from keras.layers.convolutional import Conv2D\n",
    "from keras.layers.convolutional import MaxPooling2D\n",
    "from keras.preprocessing.image import ImageDataGenerator\n",
    "import keras\n",
    "import pandas as pd"
   ]
  },
  {
   "cell_type": "markdown",
   "metadata": {},
   "source": [
    "이미지가 0, 1, 2, ... , 255 까지 값을 가지는 배열이므로 255 로 스케일링 해서 0 ~ 1 사이 값을 가지고 하는 것임. \n",
    "\n",
    "이렇게 해야 활성화함수 및 오류역전파 알고리즘이 잘 동작함.\n",
    "\n",
    "아래 그림은 학습 데이터의 구조임.\n",
    "\n",
    "![학습데이터구조](img/Train_Valid_Test.jpg)\n",
    "![학습데이터구조](.img/Train_Valid_Test.jpg)\n",
    "\n",
    "target_size 는 원본 이미지가 최종적으로 리사이징 될 크기. \n",
    "\n",
    "color mode 는 One of \"grayscale\", \"rbg\", \"rgba\". \n",
    "Default: \"rgb\". Whether the images will be converted to have 1, 3, or 4 channels.\n",
    "\n",
    "batch_size 는 배치 당 generator 로 부터 산출되는 이미지 갯수. 디폴트값이 32 임. \n",
    "모든 샘플에 대해서 하나의 예측만 하고 싶으면 predict_generator 의 steps 를 샘플개수/batch_size 로 넣으면 됨\n",
    "\n",
    "class_mode 는 2 class 문제일 경우에는 \"binary\" 로 Autoencoder(입력과 출력이 같아야 하는) 시스템일 경우는 \"input\" 으로 설정\n",
    "\n",
    "shuffle 은 산출되는 이미지를 shuffle 하고 싶을 때는 True 로 한다 \n",
    "\n",
    "seed 는 \"Random seed for applying random image augmentation and shuffling the order of the image\" 라고 함.\n",
    "\n",
    "test_generator 의 batch_size 는 train_generator 나 evaluate_generator 의 batch_size 와 조금 다르다. \n",
    "test set 의 전체 이미지 개수를 나누기 위한 어떤 숫자인데 정확하게 한번만 샘플링 되도록 설정되어야 한다. \n",
    "잘 모르겠으면 1 로 둔다. class_mode 는 None 으로 둔다. 오직 이미지만을 Return 하기 위해..."
   ]
  },
  {
   "cell_type": "code",
   "execution_count": 76,
   "metadata": {},
   "outputs": [
    {
     "name": "stdout",
     "output_type": "stream",
     "text": [
      "Found 45 images belonging to 3 classes.\n",
      "Found 15 images belonging to 3 classes.\n",
      "Found 8 images belonging to 1 classes.\n"
     ]
    }
   ],
   "source": [
    "# 랜덤시드 고정시키기\n",
    "np.random.seed(3)\n",
    "\n",
    "# 1. 데이터 생성하기\n",
    "train_datagen = ImageDataGenerator(rescale=1./255)\n",
    "\n",
    "train_generator = train_datagen.flow_from_directory(\n",
    "        directory=r'warehouse/handwriting_shape/train',\n",
    "        target_size=(24, 24),\n",
    "        color_mode=\"rgb\",\n",
    "        batch_size=3,\n",
    "        class_mode=\"categorical\",\n",
    "        shuffle=True,\n",
    "        seed=42)\n",
    "\n",
    "valid_datagen = ImageDataGenerator(rescale=1./255)\n",
    "\n",
    "valid_generator = valid_datagen.flow_from_directory(\n",
    "        directory=r'warehouse/handwriting_shape/valid',\n",
    "        target_size=(24, 24),  \n",
    "        color_mode=\"rgb\",\n",
    "        batch_size=3,\n",
    "        class_mode=\"categorical\",\n",
    "        shuffle=True,\n",
    "        seed=42)\n",
    "\n",
    "test_datagen = ImageDataGenerator(rescale=1./255)\n",
    "\n",
    "test_generator = test_datagen.flow_from_directory(\n",
    "        directory=r'warehouse/handwriting_shape/test',\n",
    "        target_size = (24, 24),   \n",
    "        color_mode=\"rgb\",\n",
    "        batch_size = 1,\n",
    "        class_mode = None,\n",
    "        shuffle = False,\n",
    "        seed=42)"
   ]
  },
  {
   "cell_type": "markdown",
   "metadata": {},
   "source": [
    "24 * 24 이미지가 3 * 3 사이즈 32개 컨볼루션 레이어를 통과하면 (22, 22, 32) 가 됨.\n",
    "\n",
    "이게 다시 같은 사이즈의 64개 컨볼루션 레이어를 통과하면 (20, 20, 64) 가 됨.\n",
    "\n",
    "이게 (2, 2) 즉 50% 로 줄이는 맥스풀링 레이어를 통과하면 (10, 10, 64) 가 됨.\n",
    "\n",
    "플래튼 레이어를 통과하면 10 * 10 * 64 = 6400 개 배열이 됨."
   ]
  },
  {
   "cell_type": "code",
   "execution_count": 77,
   "metadata": {},
   "outputs": [],
   "source": [
    "# 2. 모델 구성하기\n",
    "model = Sequential()\n",
    "model.add(Conv2D(32, kernel_size=(3, 3),\n",
    "                 activation='relu',\n",
    "                 input_shape=(24,24,3)))\n",
    "model.add(Conv2D(64, (3, 3), activation='relu'))\n",
    "model.add(MaxPooling2D(pool_size=(2, 2)))\n",
    "model.add(Flatten())\n",
    "model.add(Dense(128, activation='relu'))\n",
    "model.add(Dense(3, activation='softmax'))"
   ]
  },
  {
   "cell_type": "markdown",
   "metadata": {},
   "source": [
    "데이터 생성 시 배치사이즈를 3으로 했으므로 학습 시 한 세대 당 스텝 개수는 15로 한다. 그래야 샘플 개수 3 * 15 = 45 가 됨.\n",
    "\n",
    "STEP_SIZE_TRAIN=train_generator.n // train_generator.batch_size\n",
    "STEP_SIZE_VALID=valid_generator.n // valid_generator.batch_size\n",
    "\n",
    "model.fit_generator(generator=train_generator,\n",
    "                    steps_per_epoch=STEP_SIZE_TRAIN,\n",
    "                    validation_data=valid_generator,\n",
    "                    validation_steps=STEP_SIZE_VALID,\n",
    "                    epochs=10\n",
    ")"
   ]
  },
  {
   "cell_type": "code",
   "execution_count": 78,
   "metadata": {},
   "outputs": [
    {
     "name": "stdout",
     "output_type": "stream",
     "text": [
      "Epoch 1/5\n",
      "15/15 [==============================] - 1s 85ms/step - loss: 1.1887 - acc: 0.5556 - val_loss: 0.5944 - val_acc: 0.6667\n",
      "Epoch 2/5\n",
      "15/15 [==============================] - 0s 18ms/step - loss: 0.2814 - acc: 0.8889 - val_loss: 0.1526 - val_acc: 1.0000\n",
      "Epoch 3/5\n",
      "15/15 [==============================] - 0s 19ms/step - loss: 0.0392 - acc: 1.0000 - val_loss: 0.0483 - val_acc: 1.0000\n",
      "Epoch 4/5\n",
      "15/15 [==============================] - 0s 19ms/step - loss: 0.0031 - acc: 1.0000 - val_loss: 0.0534 - val_acc: 1.0000\n",
      "Epoch 5/5\n",
      "15/15 [==============================] - 0s 19ms/step - loss: 0.0010 - acc: 1.0000 - val_loss: 0.0411 - val_acc: 1.0000\n"
     ]
    },
    {
     "data": {
      "text/plain": [
       "<keras.callbacks.History at 0x206b49fbf98>"
      ]
     },
     "execution_count": 78,
     "metadata": {},
     "output_type": "execute_result"
    }
   ],
   "source": [
    "# 3. 모델 학습과정 설정하기\n",
    "model.compile(loss='categorical_crossentropy', optimizer='adam', metrics=['accuracy'])\n",
    "\n",
    "# 4. 모델 학습시키기\n",
    "train_step = train_generator.n // train_generator.batch_size\n",
    "valid_step = valid_generator.n // valid_generator.batch_size\n",
    "\n",
    "# 4. 모델 학습시키기\n",
    "model.fit_generator(\n",
    "        generator=train_generator,\n",
    "        steps_per_epoch=train_step,        \n",
    "        validation_data=valid_generator,\n",
    "        validation_steps=valid_step,\n",
    "        epochs=5\n",
    ")"
   ]
  },
  {
   "cell_type": "code",
   "execution_count": 79,
   "metadata": {},
   "outputs": [
    {
     "name": "stdout",
     "output_type": "stream",
     "text": [
      "-- Evaluate --\n",
      "acc: 100.00%\n",
      "[0.03273972090246389, 1.0]\n"
     ]
    }
   ],
   "source": [
    "# 5. 모델 평가하기\n",
    "print(\"-- Evaluate --\")\n",
    "scores = model.evaluate_generator(generator=valid_generator, steps=valid_step)\n",
    "print(\"%s: %.2f%%\" %(model.metrics_names[1], scores[1]*100))\n",
    "print(scores)"
   ]
  },
  {
   "cell_type": "code",
   "execution_count": 80,
   "metadata": {},
   "outputs": [],
   "source": [
    "#test_generator.reset()\n",
    "filenames = test_generator.filenames\n",
    "nb_samples = len(filenames)\n",
    "pred=model.predict_generator(test_generator,steps=nb_samples)"
   ]
  },
  {
   "cell_type": "markdown",
   "metadata": {},
   "source": [
    "argmax 함수의 axis 는 0=열(column), 1=행(row), 2=면(page) 의 순으로 가장 높은 숫자의 위치를 알려주는 파라미터임."
   ]
  },
  {
   "cell_type": "code",
   "execution_count": 81,
   "metadata": {},
   "outputs": [],
   "source": [
    "predicted_class_indices=np.argmax(pred,axis=1)\n",
    "labels = (train_generator.class_indices)\n",
    "labels = dict((v,k) for k,v in labels.items())\n",
    "predictions = [labels[k] for k in predicted_class_indices]"
   ]
  },
  {
   "cell_type": "code",
   "execution_count": 82,
   "metadata": {},
   "outputs": [
    {
     "name": "stdout",
     "output_type": "stream",
     "text": [
      "['Test_folder\\\\a_c16.png', 'Test_folder\\\\b_t20.png', 'Test_folder\\\\c_r20.png', 'Test_folder\\\\d_c17.png', 'Test_folder\\\\e_t17.png', 'Test_folder\\\\f_r07.png', 'Test_folder\\\\g_c18.png', 'Test_folder\\\\h_r08.png']\n",
      "['circle', 'triangle', 'rectangle', 'circle', 'triangle', 'rectangle', 'circle', 'rectangle']\n"
     ]
    }
   ],
   "source": [
    "print(filenames)\n",
    "print(predictions)"
   ]
  },
  {
   "cell_type": "code",
   "execution_count": 83,
   "metadata": {},
   "outputs": [],
   "source": [
    "filenames=test_generator.filenames\n",
    "results=pd.DataFrame({\"Filename\":filenames,\n",
    "                      \"Predictions\":predictions})\n",
    "results.to_csv(\"results.csv\",index=False)"
   ]
  },
  {
   "cell_type": "code",
   "execution_count": null,
   "metadata": {},
   "outputs": [],
   "source": []
  }
 ],
 "metadata": {
  "kernelspec": {
   "display_name": "Python 3",
   "language": "python",
   "name": "python3"
  },
  "language_info": {
   "codemirror_mode": {
    "name": "ipython",
    "version": 3
   },
   "file_extension": ".py",
   "mimetype": "text/x-python",
   "name": "python",
   "nbconvert_exporter": "python",
   "pygments_lexer": "ipython3",
   "version": "3.5.5"
  }
 },
 "nbformat": 4,
 "nbformat_minor": 2
}
