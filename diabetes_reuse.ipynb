{
 "cells": [
  {
   "cell_type": "code",
   "execution_count": 7,
   "metadata": {},
   "outputs": [],
   "source": [
    "# 0. 사용할 패키지 불러오기\n",
    "from keras.utils import np_utils\n",
    "from keras.models import Sequential\n",
    "from keras.layers import Dense, Activation\n",
    "import numpy as np"
   ]
  },
  {
   "cell_type": "code",
   "execution_count": 8,
   "metadata": {},
   "outputs": [
    {
     "name": "stdout",
     "output_type": "stream",
     "text": [
      "[[9.000e+00 1.700e+02 7.400e+01 3.100e+01 0.000e+00 4.400e+01 4.030e-01\n",
      "  4.300e+01]\n",
      " [3.000e+00 1.730e+02 7.800e+01 3.900e+01 1.850e+02 3.380e+01 9.700e-01\n",
      "  3.100e+01]\n",
      " [9.000e+00 1.640e+02 7.800e+01 0.000e+00 0.000e+00 3.280e+01 1.480e-01\n",
      "  4.500e+01]\n",
      " [9.000e+00 8.900e+01 6.200e+01 0.000e+00 0.000e+00 2.250e+01 1.420e-01\n",
      "  3.300e+01]\n",
      " [0.000e+00 1.410e+02 8.400e+01 2.600e+01 0.000e+00 3.240e+01 4.330e-01\n",
      "  2.200e+01]\n",
      " [3.000e+00 1.300e+02 7.800e+01 2.300e+01 7.900e+01 2.840e+01 3.230e-01\n",
      "  3.400e+01]\n",
      " [2.000e+00 1.270e+02 4.600e+01 2.100e+01 3.350e+02 3.440e+01 1.760e-01\n",
      "  2.200e+01]\n",
      " [7.000e+00 1.870e+02 5.000e+01 3.300e+01 3.920e+02 3.390e+01 8.260e-01\n",
      "  3.400e+01]\n",
      " [0.000e+00 1.810e+02 8.800e+01 4.400e+01 5.100e+02 4.330e+01 2.220e-01\n",
      "  2.600e+01]\n",
      " [0.000e+00 1.410e+02 8.400e+01 2.600e+01 0.000e+00 3.240e+01 4.330e-01\n",
      "  2.200e+01]\n",
      " [1.300e+01 1.530e+02 8.800e+01 3.700e+01 1.400e+02 4.060e+01 1.174e+00\n",
      "  3.900e+01]\n",
      " [5.000e+00 1.210e+02 7.200e+01 2.300e+01 1.120e+02 2.620e+01 2.450e-01\n",
      "  3.000e+01]\n",
      " [1.000e+00 8.100e+01 7.400e+01 4.100e+01 5.700e+01 4.630e+01 1.096e+00\n",
      "  3.200e+01]\n",
      " [3.000e+00 1.300e+02 7.800e+01 2.300e+01 7.900e+01 2.840e+01 3.230e-01\n",
      "  3.400e+01]\n",
      " [1.000e+00 1.080e+02 6.000e+01 4.600e+01 1.780e+02 3.550e+01 4.150e-01\n",
      "  2.400e+01]\n",
      " [2.000e+00 9.300e+01 6.400e+01 3.200e+01 1.600e+02 3.800e+01 6.740e-01\n",
      "  2.300e+01]\n",
      " [3.000e+00 1.020e+02 4.400e+01 2.000e+01 9.400e+01 3.080e+01 4.000e-01\n",
      "  2.600e+01]\n",
      " [9.000e+00 8.900e+01 6.200e+01 0.000e+00 0.000e+00 2.250e+01 1.420e-01\n",
      "  3.300e+01]\n",
      " [6.000e+00 1.250e+02 7.800e+01 3.100e+01 0.000e+00 2.760e+01 5.650e-01\n",
      "  4.900e+01]\n",
      " [3.000e+00 1.730e+02 7.800e+01 3.900e+01 1.850e+02 3.380e+01 9.700e-01\n",
      "  3.100e+01]]\n"
     ]
    }
   ],
   "source": [
    "# 1. 실무에 사용할 데이터 준비하기\n",
    "# 랜덤시드 고정시키기\n",
    "np.random.seed(5)\n",
    "dataset = np.loadtxt(\"./pima-indians-diabetes2.csv\", delimiter=\",\")\n",
    "x_train = dataset[:700,0:8]\n",
    "y_train = dataset[:700,8]\n",
    "x_test = dataset[700:,0:8]\n",
    "y_test = dataset[700:,8]\n",
    "\n",
    "xhat_idx = np.random.choice(x_test.shape[0], 20)\n",
    "xhat = x_test[xhat_idx]\n",
    "print(xhat)"
   ]
  },
  {
   "cell_type": "code",
   "execution_count": 9,
   "metadata": {},
   "outputs": [
    {
     "name": "stdout",
     "output_type": "stream",
     "text": [
      "True : 1.0, Predict : [1]\n",
      "True : 1.0, Predict : [1]\n",
      "True : 1.0, Predict : [1]\n",
      "True : 0.0, Predict : [0]\n",
      "True : 0.0, Predict : [0]\n",
      "True : 1.0, Predict : [0]\n",
      "True : 0.0, Predict : [1]\n",
      "True : 1.0, Predict : [1]\n",
      "True : 1.0, Predict : [0]\n",
      "True : 0.0, Predict : [0]\n",
      "True : 0.0, Predict : [1]\n",
      "True : 0.0, Predict : [0]\n",
      "True : 0.0, Predict : [0]\n",
      "True : 1.0, Predict : [0]\n",
      "True : 0.0, Predict : [0]\n",
      "True : 1.0, Predict : [0]\n",
      "True : 0.0, Predict : [0]\n",
      "True : 0.0, Predict : [0]\n",
      "True : 1.0, Predict : [0]\n",
      "True : 1.0, Predict : [1]\n"
     ]
    }
   ],
   "source": [
    "# 2. 모델 불러오기\n",
    "from keras.models import load_model\n",
    "model = load_model('diabetesPred_mlp_model.h5')\n",
    "\n",
    "# 3. 모델 사용하기\n",
    "yhat = model.predict_classes(xhat)\n",
    "\n",
    "for i in range(20):\n",
    "    print('True : ' + str(y_test[xhat_idx[i]]) + ', Predict : ' + str(yhat[i]))"
   ]
  },
  {
   "cell_type": "code",
   "execution_count": null,
   "metadata": {},
   "outputs": [],
   "source": []
  }
 ],
 "metadata": {
  "kernelspec": {
   "display_name": "Python 3",
   "language": "python",
   "name": "python3"
  },
  "language_info": {
   "codemirror_mode": {
    "name": "ipython",
    "version": 3
   },
   "file_extension": ".py",
   "mimetype": "text/x-python",
   "name": "python",
   "nbconvert_exporter": "python",
   "pygments_lexer": "ipython3",
   "version": "3.5.5"
  }
 },
 "nbformat": 4,
 "nbformat_minor": 2
}
