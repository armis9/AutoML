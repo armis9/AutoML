{
 "cells": [
  {
   "cell_type": "code",
   "execution_count": 58,
   "metadata": {},
   "outputs": [],
   "source": [
    "# 0. 사용할 패키지 불러오기\n",
    "from keras.utils import np_utils\n",
    "from keras.datasets import mnist\n",
    "from keras.models import Sequential\n",
    "from keras.layers import Dense, Activation\n",
    "import numpy as np\n",
    "from numpy import argmax\n",
    "import sys"
   ]
  },
  {
   "cell_type": "code",
   "execution_count": 59,
   "metadata": {},
   "outputs": [
    {
     "name": "stdout",
     "output_type": "stream",
     "text": [
      "(60000, 28, 28)\n",
      "(60000,)\n"
     ]
    }
   ],
   "source": [
    "# 1. 실무에 사용할 데이터 준비하기\n",
    "(x_train, y_train), (x_test, y_test) = mnist.load_data()\n",
    "print(x_train.shape)\n",
    "print(y_train.shape)"
   ]
  },
  {
   "cell_type": "code",
   "execution_count": 60,
   "metadata": {},
   "outputs": [],
   "source": [
    "#print(y_train[25])\n",
    "#for x in x_train[25]:\n",
    " #   for i in x:\n",
    "  #      sys.stdout.write('%d\\t'%i)\n",
    "   # sys.stdout.write('\\n')"
   ]
  },
  {
   "cell_type": "markdown",
   "metadata": {},
   "source": [
    "x_test 데이터 중 10000개를 784개 1차원 배열로 변환하되 255 로 나누어 0~1 사이로 정규화하는 루틴\n",
    "np_utils.to_categorical(y_test, 10) 은 0~9 까지의 테스트 데이터를 원핫인코딩해주는 함수. \n",
    "아마도 10은 디폴트인가 봄.\n",
    "np.random.choice 는 해당 행렬에서 5개 만큼 랜덤으로 선택해주는 함수"
   ]
  },
  {
   "cell_type": "code",
   "execution_count": 66,
   "metadata": {},
   "outputs": [
    {
     "name": "stdout",
     "output_type": "stream",
     "text": [
      "[0. 0. 1. 0. 0. 0. 0. 0. 0. 0.]\n",
      "[[1. 0.]\n",
      " [1. 0.]\n",
      " [0. 1.]\n",
      " [1. 0.]\n",
      " [1. 0.]\n",
      " [1. 0.]\n",
      " [1. 0.]\n",
      " [1. 0.]\n",
      " [1. 0.]\n",
      " [1. 0.]]\n",
      "10000\n"
     ]
    }
   ],
   "source": [
    "x_test = x_test.reshape(10000, 784).astype('float32') / 255.0\n",
    "print(y_test[1])\n",
    "y_test = np_utils.to_categorical(y_test)\n",
    "print(y_test[1])\n",
    "print(x_test.shape[0])\n",
    "xhat_idx = np.random.choice(x_test.shape[0], 5)\n",
    "# numpy.random.choice(a, size=None, replace=True, p=None)\n",
    "# a : 배열이면 원래의 데이터, 정수이면 range(a) 명령으로 데이터 생성\n",
    "# size : 정수. 샘플 숫자\n",
    "# replace : 불리언. True이면 한번 선택한 데이터를 다시 선택 가능\n",
    "# p : 배열. 각 데이터가 선택될 수 있는 확률"
   ]
  },
  {
   "cell_type": "code",
   "execution_count": 62,
   "metadata": {},
   "outputs": [
    {
     "name": "stdout",
     "output_type": "stream",
     "text": [
      "[8935 2781 9767 4113 7830]\n"
     ]
    }
   ],
   "source": [
    "print(xhat_idx)"
   ]
  },
  {
   "cell_type": "code",
   "execution_count": 63,
   "metadata": {},
   "outputs": [],
   "source": [
    "xhat = x_test[xhat_idx]"
   ]
  },
  {
   "cell_type": "code",
   "execution_count": 64,
   "metadata": {},
   "outputs": [
    {
     "name": "stdout",
     "output_type": "stream",
     "text": [
      "[9 9 9 2 0]\n",
      "8935\n",
      "[0. 0. 0. 0. 0. 0. 0. 0. 0. 1.]\n",
      "9\n"
     ]
    }
   ],
   "source": [
    "# 2. 모델 불러오기\n",
    "from keras.models import load_model\n",
    "model = load_model('mnist_mlp_model.h5')\n",
    "\n",
    "# 3. 모델 사용하기\n",
    "yhat = model.predict_classes(xhat)\n",
    "\n",
    "print(yhat)\n",
    "print(xhat_idx[0])\n",
    "print(y_test[xhat_idx[0]])\n",
    "print(argmax(y_test[xhat_idx[0]]))"
   ]
  },
  {
   "cell_type": "markdown",
   "metadata": {},
   "source": [
    "argmax 는 최고값이 있는 위치를 뜻함. 원핫인코딩인 것을 감안하면 숫자로 도출됨을 알 수 있음"
   ]
  },
  {
   "cell_type": "code",
   "execution_count": 65,
   "metadata": {},
   "outputs": [
    {
     "name": "stdout",
     "output_type": "stream",
     "text": [
      "True : 9, Predict : 9\n",
      "True : 9, Predict : 9\n",
      "True : 9, Predict : 9\n",
      "True : 2, Predict : 2\n",
      "True : 0, Predict : 0\n"
     ]
    }
   ],
   "source": [
    "for i in range(5):\n",
    "    print('True : ' + str(argmax(y_test[xhat_idx[i]])) + ', Predict : ' + str(yhat[i]))"
   ]
  },
  {
   "cell_type": "code",
   "execution_count": null,
   "metadata": {},
   "outputs": [],
   "source": []
  }
 ],
 "metadata": {
  "kernelspec": {
   "display_name": "Python 3",
   "language": "python",
   "name": "python3"
  },
  "language_info": {
   "codemirror_mode": {
    "name": "ipython",
    "version": 3
   },
   "file_extension": ".py",
   "mimetype": "text/x-python",
   "name": "python",
   "nbconvert_exporter": "python",
   "pygments_lexer": "ipython3",
   "version": "3.5.5"
  }
 },
 "nbformat": 4,
 "nbformat_minor": 2
}
